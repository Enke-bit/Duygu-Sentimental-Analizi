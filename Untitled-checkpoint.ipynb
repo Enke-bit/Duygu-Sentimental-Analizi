{
 "cells": [
  {
   "cell_type": "code",
   "execution_count": 1,
   "id": "869bf3e6",
   "metadata": {},
   "outputs": [
    {
     "name": "stdout",
     "output_type": "stream",
     "text": [
      "naber abi? :)                    \t ['pozitif']\n",
      "tabiki buyrun                    \t ['sakin', 'emin']\n",
      "saçmalamayı birak artik!         \t ['negatif', 'heyecanlı']\n",
      "belki yarından'da yakin          \t ['sakin', 'kararsız']\n",
      "elbet birgün buluşaçağız         \t ['emin']\n",
      "senın bu durumuna uzuldum.       \t ['mutsuz']\n",
      "terfi aldıgına sevindim.         \t ['mutlu', 'sakin']\n"
     ]
    },
    {
     "data": {
      "text/plain": [
       "'\\nAÇIKLAMA;\\nbu kodun yakın kampüs Erol Mesut Gün eğitim videosunda yapmaktadır ben ise bunu daha gelişmiş bir yapıya oluşturmak istiyorum.\\nve açık kaynak olarak sizlerinde omuz atmanızı rica ediyorum.\\nErol beyin linki => https://www.youtube.com/watch?v=a51KZyLBiW8&list=PLWctyKyPphPiul3WbHkniANLqSheBVP3O&index=33\\n'"
      ]
     },
     "execution_count": 1,
     "metadata": {},
     "output_type": "execute_result"
    }
   ],
   "source": [
    "import re\n",
    "\n",
    "def mesaj_hissi_bul(cumle):\n",
    "    hissler = []\n",
    "    \n",
    "    pozitif_patern = r\"(merhaba|selam|ask|sevgi|kardes|:\\)+)\" \n",
    "    negatif_patern = r\"(lan|aptal|kes|abv|yeter|birak)\"\n",
    "    \n",
    "    heyecanlı_patern = r\"!|[!|?]{2,}$\" \n",
    "    sakin_patern = r\"^[tabi+|hayhay]\" \n",
    "    \n",
    "    mutsuz_patern = r\"[U|u]zuldum|[H|h]usran|[H|h]uzun|[A|a]zap\"\n",
    "    mutlu_patern = r\"[M|m]utluyum|[G|g]uzel|[S|s]evindim\"\n",
    "    \n",
    "    emin_pater = r\"[K|k]esin|[T|t]abi|[E|e]lbet\"\n",
    "    kararsiz_pater = r\"[B|b]elki|[S|s]anirim\"\n",
    "    \n",
    "    \n",
    "    \n",
    "    if re.search(pozitif_patern, cumle):\n",
    "        hissler.append(\"pozitif\")\n",
    "    if re.search(negatif_patern, cumle):\n",
    "        hissler.append(\"negatif\")\n",
    "    if re.search(heyecanlı_patern, cumle):\n",
    "        hissler.append(\"heyecanlı\")\n",
    "    if re.search(mutsuz_patern, cumle):\n",
    "        hissler.append(\"mutsuz\")\n",
    "    if re.search(mutlu_patern, cumle):\n",
    "        hissler.append(\"mutlu\")\n",
    "    if re.search(sakin_patern, cumle):\n",
    "        hissler.append(\"sakin\")\n",
    "    if re.search(emin_pater, cumle):\n",
    "        hissler.append(\"emin\")\n",
    "    if re.search(kararsiz_pater, cumle):\n",
    "        hissler.append(\"kararsız\")\n",
    "        \n",
    "    return hissler\n",
    "\n",
    "cumle_1 = \"naber abi? :)                   \"\n",
    "cumle_2 = \"tabiki buyrun                   \"\n",
    "cumle_3 = \"saçmalamayı birak artik!        \"\n",
    "cumle_4 = \"belki yarından'da yakin         \"\n",
    "cumle_5 = \"elbet birgün buluşaçağız        \"\n",
    "cumle_6 = \"senın bu durumuna uzuldum.      \"\n",
    "cumle_7 = \"terfi aldıgına sevindim.        \"\n",
    "cumleler = [cumle_1, cumle_2, cumle_3, cumle_4, cumle_5, cumle_6, cumle_7]\n",
    "\n",
    "for cumle in cumleler:\n",
    "    print(cumle, '\\t', mesaj_hissi_bul(cumle))\n",
    "\"\"\"\n",
    "AÇIKLAMA;\n",
    "bu kodun yakın kampüs Erol Mesut Gün eğitim videosunda yapmaktadır ben ise bunu daha gelişmiş bir yapıya oluşturmak istiyorum.\n",
    "ve açık kaynak olarak sizlerinde omuz atmanızı rica ediyorum.\n",
    "Erol beyin linki => https://www.youtube.com/watch?v=a51KZyLBiW8&list=PLWctyKyPphPiul3WbHkniANLqSheBVP3O&index=33\n",
    "\"\"\""
   ]
  }
 ],
 "metadata": {
  "kernelspec": {
   "display_name": "Python 3 (ipykernel)",
   "language": "python",
   "name": "python3"
  },
  "language_info": {
   "codemirror_mode": {
    "name": "ipython",
    "version": 3
   },
   "file_extension": ".py",
   "mimetype": "text/x-python",
   "name": "python",
   "nbconvert_exporter": "python",
   "pygments_lexer": "ipython3",
   "version": "3.11.5"
  }
 },
 "nbformat": 4,
 "nbformat_minor": 5
}
